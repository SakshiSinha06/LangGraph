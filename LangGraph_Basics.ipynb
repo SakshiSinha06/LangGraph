{
  "nbformat": 4,
  "nbformat_minor": 0,
  "metadata": {
    "colab": {
      "provenance": []
    },
    "kernelspec": {
      "name": "python3",
      "display_name": "Python 3"
    },
    "language_info": {
      "name": "python"
    }
  },
  "cells": [
    {
      "cell_type": "markdown",
      "source": [
        "# Graph-1 (basic graph)"
      ],
      "metadata": {
        "id": "WF1bUP2O4GYC"
      }
    },
    {
      "cell_type": "code",
      "metadata": {
        "colab": {
          "base_uri": "https://localhost:8080/"
        },
        "id": "44eaea42",
        "outputId": "b7bcf577-6715-4808-e1da-e619d979f162"
      },
      "source": [
        "%pip install langgraph"
      ],
      "execution_count": 3,
      "outputs": [
        {
          "output_type": "stream",
          "name": "stdout",
          "text": [
            "Collecting langgraph\n",
            "  Downloading langgraph-0.6.5-py3-none-any.whl.metadata (6.8 kB)\n",
            "Requirement already satisfied: langchain-core>=0.1 in /usr/local/lib/python3.11/dist-packages (from langgraph) (0.3.74)\n",
            "Collecting langgraph-checkpoint<3.0.0,>=2.1.0 (from langgraph)\n",
            "  Downloading langgraph_checkpoint-2.1.1-py3-none-any.whl.metadata (4.2 kB)\n",
            "Collecting langgraph-prebuilt<0.7.0,>=0.6.0 (from langgraph)\n",
            "  Downloading langgraph_prebuilt-0.6.4-py3-none-any.whl.metadata (4.5 kB)\n",
            "Collecting langgraph-sdk<0.3.0,>=0.2.0 (from langgraph)\n",
            "  Downloading langgraph_sdk-0.2.0-py3-none-any.whl.metadata (1.5 kB)\n",
            "Requirement already satisfied: pydantic>=2.7.4 in /usr/local/lib/python3.11/dist-packages (from langgraph) (2.11.7)\n",
            "Requirement already satisfied: xxhash>=3.5.0 in /usr/local/lib/python3.11/dist-packages (from langgraph) (3.5.0)\n",
            "Requirement already satisfied: langsmith>=0.3.45 in /usr/local/lib/python3.11/dist-packages (from langchain-core>=0.1->langgraph) (0.4.14)\n",
            "Requirement already satisfied: tenacity!=8.4.0,<10.0.0,>=8.1.0 in /usr/local/lib/python3.11/dist-packages (from langchain-core>=0.1->langgraph) (9.1.2)\n",
            "Requirement already satisfied: jsonpatch<2.0,>=1.33 in /usr/local/lib/python3.11/dist-packages (from langchain-core>=0.1->langgraph) (1.33)\n",
            "Requirement already satisfied: PyYAML>=5.3 in /usr/local/lib/python3.11/dist-packages (from langchain-core>=0.1->langgraph) (6.0.2)\n",
            "Requirement already satisfied: typing-extensions>=4.7 in /usr/local/lib/python3.11/dist-packages (from langchain-core>=0.1->langgraph) (4.14.1)\n",
            "Requirement already satisfied: packaging>=23.2 in /usr/local/lib/python3.11/dist-packages (from langchain-core>=0.1->langgraph) (25.0)\n",
            "Collecting ormsgpack>=1.10.0 (from langgraph-checkpoint<3.0.0,>=2.1.0->langgraph)\n",
            "  Downloading ormsgpack-1.10.0-cp311-cp311-manylinux_2_17_x86_64.manylinux2014_x86_64.whl.metadata (43 kB)\n",
            "\u001b[2K     \u001b[90m━━━━━━━━━━━━━━━━━━━━━━━━━━━━━━━━━━━━━━━━\u001b[0m \u001b[32m43.7/43.7 kB\u001b[0m \u001b[31m2.0 MB/s\u001b[0m eta \u001b[36m0:00:00\u001b[0m\n",
            "\u001b[?25hRequirement already satisfied: httpx>=0.25.2 in /usr/local/lib/python3.11/dist-packages (from langgraph-sdk<0.3.0,>=0.2.0->langgraph) (0.28.1)\n",
            "Requirement already satisfied: orjson>=3.10.1 in /usr/local/lib/python3.11/dist-packages (from langgraph-sdk<0.3.0,>=0.2.0->langgraph) (3.11.2)\n",
            "Requirement already satisfied: annotated-types>=0.6.0 in /usr/local/lib/python3.11/dist-packages (from pydantic>=2.7.4->langgraph) (0.7.0)\n",
            "Requirement already satisfied: pydantic-core==2.33.2 in /usr/local/lib/python3.11/dist-packages (from pydantic>=2.7.4->langgraph) (2.33.2)\n",
            "Requirement already satisfied: typing-inspection>=0.4.0 in /usr/local/lib/python3.11/dist-packages (from pydantic>=2.7.4->langgraph) (0.4.1)\n",
            "Requirement already satisfied: anyio in /usr/local/lib/python3.11/dist-packages (from httpx>=0.25.2->langgraph-sdk<0.3.0,>=0.2.0->langgraph) (4.10.0)\n",
            "Requirement already satisfied: certifi in /usr/local/lib/python3.11/dist-packages (from httpx>=0.25.2->langgraph-sdk<0.3.0,>=0.2.0->langgraph) (2025.8.3)\n",
            "Requirement already satisfied: httpcore==1.* in /usr/local/lib/python3.11/dist-packages (from httpx>=0.25.2->langgraph-sdk<0.3.0,>=0.2.0->langgraph) (1.0.9)\n",
            "Requirement already satisfied: idna in /usr/local/lib/python3.11/dist-packages (from httpx>=0.25.2->langgraph-sdk<0.3.0,>=0.2.0->langgraph) (3.10)\n",
            "Requirement already satisfied: h11>=0.16 in /usr/local/lib/python3.11/dist-packages (from httpcore==1.*->httpx>=0.25.2->langgraph-sdk<0.3.0,>=0.2.0->langgraph) (0.16.0)\n",
            "Requirement already satisfied: jsonpointer>=1.9 in /usr/local/lib/python3.11/dist-packages (from jsonpatch<2.0,>=1.33->langchain-core>=0.1->langgraph) (3.0.0)\n",
            "Requirement already satisfied: requests-toolbelt>=1.0.0 in /usr/local/lib/python3.11/dist-packages (from langsmith>=0.3.45->langchain-core>=0.1->langgraph) (1.0.0)\n",
            "Requirement already satisfied: requests>=2.0.0 in /usr/local/lib/python3.11/dist-packages (from langsmith>=0.3.45->langchain-core>=0.1->langgraph) (2.32.3)\n",
            "Requirement already satisfied: zstandard>=0.23.0 in /usr/local/lib/python3.11/dist-packages (from langsmith>=0.3.45->langchain-core>=0.1->langgraph) (0.23.0)\n",
            "Requirement already satisfied: charset-normalizer<4,>=2 in /usr/local/lib/python3.11/dist-packages (from requests>=2.0.0->langsmith>=0.3.45->langchain-core>=0.1->langgraph) (3.4.3)\n",
            "Requirement already satisfied: urllib3<3,>=1.21.1 in /usr/local/lib/python3.11/dist-packages (from requests>=2.0.0->langsmith>=0.3.45->langchain-core>=0.1->langgraph) (2.5.0)\n",
            "Requirement already satisfied: sniffio>=1.1 in /usr/local/lib/python3.11/dist-packages (from anyio->httpx>=0.25.2->langgraph-sdk<0.3.0,>=0.2.0->langgraph) (1.3.1)\n",
            "Downloading langgraph-0.6.5-py3-none-any.whl (153 kB)\n",
            "\u001b[2K   \u001b[90m━━━━━━━━━━━━━━━━━━━━━━━━━━━━━━━━━━━━━━━━\u001b[0m \u001b[32m153.2/153.2 kB\u001b[0m \u001b[31m5.9 MB/s\u001b[0m eta \u001b[36m0:00:00\u001b[0m\n",
            "\u001b[?25hDownloading langgraph_checkpoint-2.1.1-py3-none-any.whl (43 kB)\n",
            "\u001b[2K   \u001b[90m━━━━━━━━━━━━━━━━━━━━━━━━━━━━━━━━━━━━━━━━\u001b[0m \u001b[32m43.9/43.9 kB\u001b[0m \u001b[31m3.1 MB/s\u001b[0m eta \u001b[36m0:00:00\u001b[0m\n",
            "\u001b[?25hDownloading langgraph_prebuilt-0.6.4-py3-none-any.whl (28 kB)\n",
            "Downloading langgraph_sdk-0.2.0-py3-none-any.whl (50 kB)\n",
            "\u001b[2K   \u001b[90m━━━━━━━━━━━━━━━━━━━━━━━━━━━━━━━━━━━━━━━━\u001b[0m \u001b[32m50.6/50.6 kB\u001b[0m \u001b[31m3.8 MB/s\u001b[0m eta \u001b[36m0:00:00\u001b[0m\n",
            "\u001b[?25hDownloading ormsgpack-1.10.0-cp311-cp311-manylinux_2_17_x86_64.manylinux2014_x86_64.whl (216 kB)\n",
            "\u001b[2K   \u001b[90m━━━━━━━━━━━━━━━━━━━━━━━━━━━━━━━━━━━━━━━━\u001b[0m \u001b[32m216.5/216.5 kB\u001b[0m \u001b[31m15.1 MB/s\u001b[0m eta \u001b[36m0:00:00\u001b[0m\n",
            "\u001b[?25hInstalling collected packages: ormsgpack, langgraph-sdk, langgraph-checkpoint, langgraph-prebuilt, langgraph\n",
            "Successfully installed langgraph-0.6.5 langgraph-checkpoint-2.1.1 langgraph-prebuilt-0.6.4 langgraph-sdk-0.2.0 ormsgpack-1.10.0\n"
          ]
        }
      ]
    },
    {
      "cell_type": "code",
      "execution_count": 4,
      "metadata": {
        "id": "ad2B0WxNvN-K"
      },
      "outputs": [],
      "source": [
        "from typing import Dict, TypedDict\n",
        "from langgraph.graph import StateGraph"
      ]
    },
    {
      "cell_type": "code",
      "source": [
        "class AgentState(TypedDict): #our state schema\n",
        "    message: str\n",
        "\n",
        "\n",
        "def greeting_node(state: AgentState) -> AgentState:\n",
        "  \"\"\"Simple code that adds greeting message to the state\"\"\"\n",
        "\n",
        "  state['message'] = 'Hey ' + state['message'] + ', how is your day going?'\n",
        "  return state"
      ],
      "metadata": {
        "id": "7O_B45OfvSEp"
      },
      "execution_count": 6,
      "outputs": []
    },
    {
      "cell_type": "code",
      "source": [
        "graph = StateGraph(AgentState)\n",
        "graph.add_node(\"greeter\",greeting_node)\n",
        "graph.set_entry_point(\"greeter\")\n",
        "graph.set_finish_point(\"greeter\")\n",
        "app = graph.compile()"
      ],
      "metadata": {
        "colab": {
          "base_uri": "https://localhost:8080/",
          "height": 251
        },
        "id": "8v-v5cA3viiW",
        "outputId": "172bb106-06f1-412b-8e7f-d7168447b730"
      },
      "execution_count": 10,
      "outputs": [
        {
          "output_type": "execute_result",
          "data": {
            "text/plain": [
              "<langgraph.graph.state.CompiledStateGraph object at 0x7a13ab115510>"
            ],
            "image/png": "[encoded data removed]"
          },
          "metadata": {},
          "execution_count": 10
        }
      ]
    },
    {
      "cell_type": "code",
      "source": [
        "from IPython.display import Image, display\n",
        "display(Image(app.get_graph().draw_mermaid_png()))\n"
      ],
      "metadata": {
        "colab": {
          "base_uri": "https://localhost:8080/",
          "height": 251
        },
        "id": "KZLpZQhuyEpC",
        "outputId": "18adff75-a565-4e0c-e4cf-1fc10f2ea541"
      },
      "execution_count": 9,
      "outputs": [
        {
          "output_type": "display_data",
          "data": {
            "image/png": "[encoded data removed]",
            "text/plain": [
              "<IPython.core.display.Image object>"
            ]
          },
          "metadata": {}
        }
      ]
    },
    {
      "cell_type": "code",
      "source": [
        "result = app.invoke({\"message\": \"Bob\"})"
      ],
      "metadata": {
        "id": "e0FOfzBbykq_"
      },
      "execution_count": 12,
      "outputs": []
    },
    {
      "cell_type": "code",
      "source": [
        "result['message']"
      ],
      "metadata": {
        "colab": {
          "base_uri": "https://localhost:8080/",
          "height": 35
        },
        "id": "VmHtKctizEat",
        "outputId": "cef47af6-8dd8-43f0-83a4-7f1a57fb770e"
      },
      "execution_count": 13,
      "outputs": [
        {
          "output_type": "execute_result",
          "data": {
            "text/plain": [
              "'Hey Bob, how is your day going?'"
            ],
            "application/vnd.google.colaboratory.intrinsic+json": {
              "type": "string"
            }
          },
          "metadata": {},
          "execution_count": 13
        }
      ]
    },
    {
      "cell_type": "code",
      "source": [],
      "metadata": {
        "id": "w5_8FuGSzMbH"
      },
      "execution_count": null,
      "outputs": []
    },
    {
      "cell_type": "markdown",
      "source": [
        "## excercise-1"
      ],
      "metadata": {
        "id": "MHJM_lB93Yte"
      }
    },
    {
      "cell_type": "code",
      "source": [
        "from typing import Dict, TypedDict\n",
        "from langgraph.graph import StateGraph"
      ],
      "metadata": {
        "id": "cdUlfZmH3aIP"
      },
      "execution_count": 14,
      "outputs": []
    },
    {
      "cell_type": "code",
      "source": [
        "class AgentState(TypedDict): #our state schema\n",
        "    message: str\n",
        "\n",
        "def complimenter_node(state: AgentState) -> AgentState:\n",
        "  \"\"\"Simple code that adds complementary message to the state\"\"\"\n",
        "\n",
        "  state['message'] = 'Hey ' + state['message'] + ', you are doing amazing job!'\n",
        "  return state"
      ],
      "metadata": {
        "id": "ZOcirb-Z3hsJ"
      },
      "execution_count": 15,
      "outputs": []
    },
    {
      "cell_type": "code",
      "source": [
        "graph = StateGraph(AgentState)\n",
        "graph.add_node(\"complimenter\",complimenter_node)\n",
        "graph.set_entry_point(\"complimenter\")\n",
        "graph.set_finish_point(\"complimenter\")\n",
        "app = graph.compile()"
      ],
      "metadata": {
        "id": "JOhXH6gS3wVl"
      },
      "execution_count": 16,
      "outputs": []
    },
    {
      "cell_type": "code",
      "source": [
        "app.invoke({\"message\": \"Bob\"})"
      ],
      "metadata": {
        "colab": {
          "base_uri": "https://localhost:8080/"
        },
        "id": "aIp_mNia36oq",
        "outputId": "347a25f4-6caa-432d-c0c8-6e2afc2e0eb8"
      },
      "execution_count": 17,
      "outputs": [
        {
          "output_type": "execute_result",
          "data": {
            "text/plain": [
              "{'message': 'Hey Bob, you are doing amazing job!'}"
            ]
          },
          "metadata": {},
          "execution_count": 17
        }
      ]
    },
    {
      "cell_type": "code",
      "source": [],
      "metadata": {
        "id": "2XYpABX038s6"
      },
      "execution_count": null,
      "outputs": []
    },
    {
      "cell_type": "markdown",
      "source": [
        "# Graph -2 (adding multiple inputs)"
      ],
      "metadata": {
        "id": "LtX_Wx8r4A2c"
      }
    },
    {
      "cell_type": "code",
      "source": [
        "from typing import Dict, TypedDict, List\n",
        "from langgraph.graph import StateGraph"
      ],
      "metadata": {
        "id": "j8A86PTr4Dg8"
      },
      "execution_count": 19,
      "outputs": []
    },
    {
      "cell_type": "code",
      "source": [
        "class AgentState(TypedDict): #our state schema\n",
        "    values: List[int]\n",
        "    name: str\n",
        "    result: str\n",
        "\n"
      ],
      "metadata": {
        "id": "cMhByqwk4O9H"
      },
      "execution_count": 20,
      "outputs": []
    },
    {
      "cell_type": "code",
      "source": [
        "def process_value(state: AgentState) -> AgentState:\n",
        "  \"\"\"this function handle multiple different values\"\"\"\n",
        "  state['result'] = f\"Hi there {state['name']} your sum = {sum(state['values'])}\"\n",
        "  return state\n"
      ],
      "metadata": {
        "id": "SG_SmqQb4yh9"
      },
      "execution_count": 39,
      "outputs": []
    },
    {
      "cell_type": "code",
      "source": [
        "graph = StateGraph(AgentState)\n",
        "graph.add_node(\"processor\",process_value)\n",
        "graph.set_entry_point(\"processor\")\n",
        "graph.set_finish_point(\"processor\")\n",
        "app = graph.compile()"
      ],
      "metadata": {
        "id": "ldVHHcyh5kHO"
      },
      "execution_count": 40,
      "outputs": []
    },
    {
      "cell_type": "code",
      "source": [
        "from IPython.display import Image, display\n",
        "display(Image(app.get_graph().draw_mermaid_png()))"
      ],
      "metadata": {
        "colab": {
          "base_uri": "https://localhost:8080/",
          "height": 251
        },
        "id": "Gwj1bQwb5wXy",
        "outputId": "5e535446-0f82-4a3a-92d4-9ab3ef1bbf40"
      },
      "execution_count": 41,
      "outputs": [
        {
          "output_type": "display_data",
          "data": {
            "image/png": "[encoded data removed]",
            "text/plain": [
              "<IPython.core.display.Image object>"
            ]
          },
          "metadata": {}
        }
      ]
    },
    {
      "cell_type": "code",
      "source": [
        "answers = app.invoke({'name':'Bob', 'values': [1,2,3,4]})"
      ],
      "metadata": {
        "id": "8Kg6SkLz50Qy"
      },
      "execution_count": 42,
      "outputs": []
    },
    {
      "cell_type": "code",
      "source": [
        "print(answers)"
      ],
      "metadata": {
        "colab": {
          "base_uri": "https://localhost:8080/"
        },
        "id": "EgnceHbI6lYa",
        "outputId": "8554d040-451a-44c3-cda2-5c04569091de"
      },
      "execution_count": 44,
      "outputs": [
        {
          "output_type": "stream",
          "name": "stdout",
          "text": [
            "{'values': [1, 2, 3, 4], 'name': 'Bob', 'result': 'Hi there Bob your sum = 10'}\n"
          ]
        }
      ]
    },
    {
      "cell_type": "code",
      "source": [
        "answers['result']"
      ],
      "metadata": {
        "colab": {
          "base_uri": "https://localhost:8080/",
          "height": 35
        },
        "id": "_kaGq9OI6Pdc",
        "outputId": "9da7e30a-1297-4f07-b0e4-b358646aa9ab"
      },
      "execution_count": 43,
      "outputs": [
        {
          "output_type": "execute_result",
          "data": {
            "text/plain": [
              "'Hi there Bob your sum = 10'"
            ],
            "application/vnd.google.colaboratory.intrinsic+json": {
              "type": "string"
            }
          },
          "metadata": {},
          "execution_count": 43
        }
      ]
    },
    {
      "cell_type": "markdown",
      "source": [
        "## Exercise-2"
      ],
      "metadata": {
        "id": "Mm0KHTBm69C_"
      }
    },
    {
      "cell_type": "code",
      "source": [
        "from typing import Dict, TypedDict, List\n",
        "from langgraph.graph import StateGraph\n",
        "import math"
      ],
      "metadata": {
        "id": "F2uUD_ce7Buh"
      },
      "execution_count": 57,
      "outputs": []
    },
    {
      "cell_type": "code",
      "source": [
        "class AgentState(TypedDict): #our state schema\n",
        "    values: List[int]\n",
        "    name: str\n",
        "    operator: str\n",
        "    result: str"
      ],
      "metadata": {
        "id": "SluKutw-7YHH"
      },
      "execution_count": 58,
      "outputs": []
    },
    {
      "cell_type": "code",
      "source": [
        "def calculator(state: AgentState) -> AgentState:\n",
        "  \"\"\"this function handle multiple different operations\"\"\"\n",
        "  if state['operator'] == '+':\n",
        "    state['result'] = f\"Hi {state['name']} your answer is = {sum(state['values'])}\"\n",
        "  elif state['operator'] == '*':\n",
        "    state['result'] = f\"Hi {state['name']} your answer is = {math.prod(state['values'])}\"\n",
        "\n",
        "  return state"
      ],
      "metadata": {
        "id": "QMaXAy_j7lTo"
      },
      "execution_count": 59,
      "outputs": []
    },
    {
      "cell_type": "code",
      "source": [
        "graph = StateGraph(AgentState)\n",
        "graph.add_node(\"calculator\",calculator)\n",
        "graph.set_entry_point(\"calculator\")\n",
        "graph.set_finish_point(\"calculator\")\n",
        "app = graph.compile()"
      ],
      "metadata": {
        "id": "_ZTw86nT8oBC"
      },
      "execution_count": 60,
      "outputs": []
    },
    {
      "cell_type": "code",
      "source": [
        "app"
      ],
      "metadata": {
        "colab": {
          "base_uri": "https://localhost:8080/",
          "height": 251
        },
        "id": "9a2GmypS8qZp",
        "outputId": "89a240c4-1409-4c62-bb28-bcf5cdddaf58"
      },
      "execution_count": 61,
      "outputs": [
        {
          "output_type": "execute_result",
          "data": {
            "text/plain": [
              "<langgraph.graph.state.CompiledStateGraph object at 0x7a13978ae8d0>"
            ],
            "image/png": "[encoded data removed]"
          },
          "metadata": {},
          "execution_count": 61
        }
      ]
    },
    {
      "cell_type": "code",
      "source": [
        "answers = app.invoke({'name':'Bob', 'values': [1,2,3,4], 'operator':'+'})"
      ],
      "metadata": {
        "id": "CjutIPnk8rFK"
      },
      "execution_count": 62,
      "outputs": []
    },
    {
      "cell_type": "code",
      "source": [
        "print(answers)"
      ],
      "metadata": {
        "colab": {
          "base_uri": "https://localhost:8080/"
        },
        "id": "mtbfrG2h8xD4",
        "outputId": "f331af6b-fbc6-4438-f659-7dd27bafafa0"
      },
      "execution_count": 63,
      "outputs": [
        {
          "output_type": "stream",
          "name": "stdout",
          "text": [
            "{'values': [1, 2, 3, 4], 'name': 'Bob', 'operator': '+', 'result': 'Hi Bob your answer is = 10'}\n"
          ]
        }
      ]
    },
    {
      "cell_type": "markdown",
      "source": [
        "# Graph -3 (adding multiple nodes and edges)"
      ],
      "metadata": {
        "id": "A6N8IB1l9J4r"
      }
    },
    {
      "cell_type": "code",
      "source": [
        "from typing import TypedDict\n",
        "from langgraph.graph import StateGraph"
      ],
      "metadata": {
        "id": "TN21wNVb9LP8"
      },
      "execution_count": 64,
      "outputs": []
    },
    {
      "cell_type": "code",
      "source": [
        "class AgentState(TypedDict): #our state schema\n",
        "    name: str\n",
        "    age: str\n",
        "    final: str"
      ],
      "metadata": {
        "id": "jWRuud6K9ZJU"
      },
      "execution_count": 65,
      "outputs": []
    },
    {
      "cell_type": "code",
      "source": [
        "def first_node(state: AgentState) -> AgentState:\n",
        "  \"\"\"First node of our graph\"\"\"\n",
        "  state['final'] = f\"Hi {state['name']}!\"\n",
        "  return state"
      ],
      "metadata": {
        "id": "zL6LJHGB9fz2"
      },
      "execution_count": 83,
      "outputs": []
    },
    {
      "cell_type": "code",
      "source": [
        "def second_node(state: AgentState) -> AgentState:\n",
        "  \"\"\"Second node of our graph\"\"\"\n",
        "  state['final'] = state['final'] + f\" You are {state['age']} years old!\"\n",
        "  return state"
      ],
      "metadata": {
        "id": "aSrMg6kJ9lo1"
      },
      "execution_count": 84,
      "outputs": []
    },
    {
      "cell_type": "code",
      "source": [
        "graph = StateGraph(AgentState)\n",
        "graph.add_node(\"first_node\", first_node)\n",
        "graph.add_node(\"second_node\", second_node)\n",
        "graph.set_entry_point(\"first_node\")\n",
        "graph.add_edge(\"first_node\", \"second_node\")\n",
        "graph.set_finish_point(\"second_node\")\n",
        "app = graph.compile()\n"
      ],
      "metadata": {
        "id": "AhjqN_fx98Yy"
      },
      "execution_count": 85,
      "outputs": []
    },
    {
      "cell_type": "code",
      "source": [
        "app"
      ],
      "metadata": {
        "colab": {
          "base_uri": "https://localhost:8080/",
          "height": 350
        },
        "id": "QdKzmRpZ-yjt",
        "outputId": "b8b0ce4c-da25-4f9f-bd5a-e6a734afeda9"
      },
      "execution_count": 86,
      "outputs": [
        {
          "output_type": "execute_result",
          "data": {
            "text/plain": [
              "<langgraph.graph.state.CompiledStateGraph object at 0x7a139771d250>"
            ],
            "image/png": "[encoded data removed]"
          },
          "metadata": {},
          "execution_count": 86
        }
      ]
    },
    {
      "cell_type": "code",
      "source": [
        "answers= app.invoke({'name': 'Bob', 'age' : '26'})"
      ],
      "metadata": {
        "id": "sWyCplyy-zDF"
      },
      "execution_count": 87,
      "outputs": []
    },
    {
      "cell_type": "code",
      "source": [
        "print(answers)"
      ],
      "metadata": {
        "colab": {
          "base_uri": "https://localhost:8080/"
        },
        "id": "gXyIoedT-8gs",
        "outputId": "c6ed0fb0-4846-43a3-cb21-1e4f5880cbb9"
      },
      "execution_count": 88,
      "outputs": [
        {
          "output_type": "stream",
          "name": "stdout",
          "text": [
            "{'name': 'Bob', 'age': '26', 'final': 'Hi Bob! You are 26 years old!'}\n"
          ]
        }
      ]
    },
    {
      "cell_type": "markdown",
      "source": [
        "## Exercise - 3"
      ],
      "metadata": {
        "id": "e6M17u10BDgJ"
      }
    },
    {
      "cell_type": "code",
      "source": [
        " from typing import Dict, TypedDict\n",
        " from langgraph.graph import StateGraph"
      ],
      "metadata": {
        "id": "PcEPYWm0BGmk"
      },
      "execution_count": 103,
      "outputs": []
    },
    {
      "cell_type": "code",
      "source": [
        "class AgentState(TypedDict): #our state schema\n",
        "    name: str\n",
        "    age: str\n",
        "    skills: List[str]\n",
        "    result: str"
      ],
      "metadata": {
        "id": "8AmXjvjIIti-"
      },
      "execution_count": 104,
      "outputs": []
    },
    {
      "cell_type": "code",
      "source": [
        "def first_node(state: AgentState) -> AgentState:\n",
        "  \"\"\"First node of our graph\"\"\"\n",
        "  state['result'] = f\"Hi {state['name']}!\"\n",
        "  return state"
      ],
      "metadata": {
        "id": "6G9c1Bt_I53L"
      },
      "execution_count": 105,
      "outputs": []
    },
    {
      "cell_type": "code",
      "source": [
        "def second_node(state: AgentState) -> AgentState:\n",
        "  \"\"\"Second node of our graph\"\"\"\n",
        "  state['result'] = state['result'] + f\" You are {state['age']} years old!\"\n",
        "  return state"
      ],
      "metadata": {
        "id": "VDNflwFrL8yD"
      },
      "execution_count": 106,
      "outputs": []
    },
    {
      "cell_type": "code",
      "source": [
        "def third_node(state: AgentState) -> AgentState:\n",
        "  \"\"\"Third node of our graph\"\"\"\n",
        "  state['result'] = state['result'] + f\" You have skills in {', '.join(state['skills'])} skills!\"\n",
        "  return state\n",
        "#"
      ],
      "metadata": {
        "id": "WER2tZdlMAd3"
      },
      "execution_count": 107,
      "outputs": []
    },
    {
      "cell_type": "code",
      "source": [
        "graph = StateGraph(AgentState)\n",
        "graph.add_node(\"first_node\", first_node)\n",
        "graph.add_node(\"second_node\", second_node)\n",
        "graph.add_node(\"third_node\", third_node)\n",
        "graph.set_entry_point(\"first_node\")\n",
        "graph.add_edge(\"first_node\", \"second_node\")\n",
        "graph.add_edge(\"second_node\", \"third_node\")\n",
        "graph.set_finish_point(\"third_node\")\n",
        "app = graph.compile()"
      ],
      "metadata": {
        "id": "lEK0RystND-k"
      },
      "execution_count": 108,
      "outputs": []
    },
    {
      "cell_type": "code",
      "source": [
        "app"
      ],
      "metadata": {
        "colab": {
          "base_uri": "https://localhost:8080/",
          "height": 449
        },
        "id": "pcZhOe7kNkZ_",
        "outputId": "e6fec4b1-fac0-477e-c259-2cd8bb3eb33d"
      },
      "execution_count": 109,
      "outputs": [
        {
          "output_type": "execute_result",
          "data": {
            "text/plain": [
              "<langgraph.graph.state.CompiledStateGraph object at 0x7a13975eb890>"
            ],
            "image/png": "[encoded data removed]"
          },
          "metadata": {},
          "execution_count": 109
        }
      ]
    },
    {
      "cell_type": "code",
      "source": [
        "answers = app.invoke({'name': 'Bob', 'age' : '26', 'skills': ['Python', 'Java', 'C++']})"
      ],
      "metadata": {
        "id": "dLI29_JDNlA8"
      },
      "execution_count": 110,
      "outputs": []
    },
    {
      "cell_type": "code",
      "source": [
        "print(answers)"
      ],
      "metadata": {
        "colab": {
          "base_uri": "https://localhost:8080/"
        },
        "id": "CMTXX2KpNnHf",
        "outputId": "731008bc-57d9-4dbb-bf0b-2f354f340e45"
      },
      "execution_count": 111,
      "outputs": [
        {
          "output_type": "stream",
          "name": "stdout",
          "text": [
            "{'name': 'Bob', 'age': '26', 'skills': ['Python', 'Java', 'C++'], 'result': 'Hi Bob! You are 26 years old! You have skills in Python, Java, C++ skills!'}\n"
          ]
        }
      ]
    },
    {
      "cell_type": "markdown",
      "source": [
        "# Graph-4 (conditional edges)"
      ],
      "metadata": {
        "id": "awWKjIrTN7-1"
      }
    },
    {
      "cell_type": "code",
      "source": [
        "from typing import Dict, TypedDict\n",
        "from langgraph.graph import StateGraph, START, END"
      ],
      "metadata": {
        "id": "1RGxQzrPN9py"
      },
      "execution_count": 113,
      "outputs": []
    },
    {
      "cell_type": "code",
      "source": [
        "class AgentState(TypedDict): #our state schema\n",
        "    number1: int\n",
        "    number2: int\n",
        "    operation: str\n",
        "    finalNumber: int"
      ],
      "metadata": {
        "id": "rWhXU365OCHG"
      },
      "execution_count": 119,
      "outputs": []
    },
    {
      "cell_type": "code",
      "source": [
        "def adder(state: AgentState) -> AgentState:\n",
        "  \"\"\"Add two numbers\"\"\"\n",
        "  state['finalNumber'] = state['number1'] + state['number2']\n",
        "  return state"
      ],
      "metadata": {
        "id": "sXNP2qblOCKj"
      },
      "execution_count": 120,
      "outputs": []
    },
    {
      "cell_type": "code",
      "source": [
        "def subtractor(state: AgentState) -> AgentState:\n",
        "  \"\"\"subtract two numbers\"\"\"\n",
        "  state['finalNumber'] = state['number1'] - state['number2']\n",
        "  return state"
      ],
      "metadata": {
        "id": "bqv0GHxtOCTs"
      },
      "execution_count": 121,
      "outputs": []
    },
    {
      "cell_type": "code",
      "source": [
        "def decide_next_node(state: AgentState) -> AgentState:\n",
        "  \"\"\"This node will select the next node of the graph\"\"\"\n",
        "  if state['operation'] == '+':\n",
        "    return \"addition_operation\"\n",
        "  elif state['operation'] == '-':\n",
        "    return \"subtraction_operation\""
      ],
      "metadata": {
        "id": "5AgmBnqdQqL8"
      },
      "execution_count": 122,
      "outputs": []
    },
    {
      "cell_type": "code",
      "source": [
        "graph = StateGraph(AgentState)\n",
        "graph.add_node(\"add_node\", adder)\n",
        "graph.add_node(\"subtract_node\", subtractor)\n",
        "graph.add_node(\"router\", lambda state:state)  # pass through function\n",
        "graph.add_edge(START, \"router\")\n",
        "graph.add_conditional_edges(\n",
        "    \"router\",\n",
        "    decide_next_node,\n",
        "    {\n",
        "        # Edge: Node\n",
        "        \"addition_operation\": \"add_node\",\n",
        "        \"subtraction_operation\": \"subtract_node\"\n",
        "    }\n",
        "    )\n",
        "graph.add_edge(\"add_node\", END)\n",
        "graph.add_edge(\"subtract_node\", END)\n",
        "app = graph.compile()\n"
      ],
      "metadata": {
        "id": "Y7VpCIrxRiB5"
      },
      "execution_count": 124,
      "outputs": []
    },
    {
      "cell_type": "code",
      "source": [
        "app"
      ],
      "metadata": {
        "colab": {
          "base_uri": "https://localhost:8080/",
          "height": 374
        },
        "id": "Ku0MquHZT0iA",
        "outputId": "005f0ae0-864b-42a0-b884-9e27011e4774"
      },
      "execution_count": 125,
      "outputs": [
        {
          "output_type": "execute_result",
          "data": {
            "text/plain": [
              "<langgraph.graph.state.CompiledStateGraph object at 0x7a1397718f50>"
            ],
            "image/png": "[encoded data removed]"
          },
          "metadata": {},
          "execution_count": 125
        }
      ]
    },
    {
      "cell_type": "code",
      "source": [
        "answer = app.invoke({'number1': 10, 'number2': 5, 'operation': '+'})"
      ],
      "metadata": {
        "id": "7fV2sUwCUIEg"
      },
      "execution_count": 128,
      "outputs": []
    },
    {
      "cell_type": "code",
      "source": [
        "print(answer)"
      ],
      "metadata": {
        "colab": {
          "base_uri": "https://localhost:8080/"
        },
        "id": "IArHz7t-UMYo",
        "outputId": "b0417ca2-a779-4d06-cce0-2dfdf87141e9"
      },
      "execution_count": 129,
      "outputs": [
        {
          "output_type": "stream",
          "name": "stdout",
          "text": [
            "{'number1': 10, 'number2': 5, 'operation': '+', 'finalNumber': 15}\n"
          ]
        }
      ]
    },
    {
      "cell_type": "code",
      "source": [
        "initial_state_1 = AgentState(number1=10, number2=5, operation='-')\n",
        "print(app.invoke(initial_state_1))"
      ],
      "metadata": {
        "colab": {
          "base_uri": "https://localhost:8080/"
        },
        "id": "uDR4F9n1UwXo",
        "outputId": "d99954c9-dbc8-41aa-f3e9-9e082b422926"
      },
      "execution_count": 130,
      "outputs": [
        {
          "output_type": "stream",
          "name": "stdout",
          "text": [
            "{'number1': 10, 'number2': 5, 'operation': '-', 'finalNumber': 5}\n"
          ]
        }
      ]
    },
    {
      "cell_type": "markdown",
      "source": [
        "## Exercise-4"
      ],
      "metadata": {
        "id": "pYqkjAO-N-1L"
      }
    },
    {
      "cell_type": "code",
      "source": [
        "from typing import TypedDict\n",
        "from langgraph.graph import StateGraph, START, END"
      ],
      "metadata": {
        "id": "5gf1Ht5TOBJg"
      },
      "execution_count": 132,
      "outputs": []
    },
    {
      "cell_type": "code",
      "source": [
        "class AgentState(TypedDict): #our state schema\n",
        "    number1: int\n",
        "    number2: int\n",
        "    operation1: str\n",
        "    number3: int\n",
        "    number4: int\n",
        "    operation2: str\n",
        "    finalNumber1: int\n",
        "    finalNumber2: int"
      ],
      "metadata": {
        "id": "yubCuBj3VVQG"
      },
      "execution_count": 133,
      "outputs": []
    },
    {
      "cell_type": "code",
      "source": [
        "def adder(state: AgentState) -> AgentState:\n",
        "  \"\"\"Add two numbers\"\"\"\n",
        "  state['finalNumber1'] = state['number1'] + state['number2']\n",
        "  return state\n",
        "\n",
        "def adder2(state: AgentState) -> AgentState:\n",
        "  \"\"\"Add two numbers  in part 2\"\"\"\n",
        "  state['finalNumber2'] = state['number3'] + state['number4']\n",
        "  return state\n",
        "\n",
        "def subtractor(state: AgentState) -> AgentState:\n",
        "  \"\"\"subtract two numbers\"\"\"\n",
        "  state['finalNumber1'] = state['number1'] - state['number2']\n",
        "  return state\n",
        "\n",
        "def subtractor2(state: AgentState) -> AgentState:\n",
        "  \"\"\"subtract two numbers  in part 2\"\"\"\n",
        "  state['finalNumber2'] = state['number3'] - state['number4']\n",
        "  return state\n",
        "\n",
        "def decide_next_node(state: AgentState) -> AgentState:\n",
        "  \"\"\"This node will select the next node of the graph\"\"\"\n",
        "  if state['operation1'] == '+':\n",
        "    return \"addition_operation\"\n",
        "  elif state['operation1'] == '-':\n",
        "    return \"subtraction_operation\"\n",
        "\n",
        "def decide_next_node2(state: AgentState) -> AgentState:\n",
        "  \"\"\"This node will select the next node of the graph in part 2\"\"\"\n",
        "  if state['operation2'] == '+':\n",
        "    return \"addition_operation2\"\n",
        "  elif state['operation2'] == '-':\n",
        "    return \"subtraction_operation2\"\n"
      ],
      "metadata": {
        "id": "wv_StJaTVisR"
      },
      "execution_count": 138,
      "outputs": []
    },
    {
      "cell_type": "code",
      "source": [
        "graph = StateGraph(AgentState)\n",
        "graph.add_node(\"add_node\", adder)\n",
        "graph.add_node(\"add_node2\", adder2)\n",
        "graph.add_node(\"subtract_node\", subtractor)\n",
        "graph.add_node(\"subtract_node2\", subtractor2)\n",
        "graph.add_node(\"router\", lambda state:state)  # pass through function\n",
        "graph.add_node(\"router2\", lambda state:state)  # pass through function\n",
        "graph.add_edge(START, \"router\")\n",
        "graph.add_conditional_edges(\n",
        "    \"router\",\n",
        "    decide_next_node,\n",
        "    {\n",
        "        # Edge: Node\n",
        "        \"addition_operation\": \"add_node\",\n",
        "        \"subtraction_operation\": \"subtract_node\"\n",
        "    }\n",
        ")\n",
        "graph.add_edge(\"add_node\", \"router2\")\n",
        "graph.add_edge(\"subtract_node\", \"router2\")\n",
        "graph.add_conditional_edges(\n",
        "    \"router2\",\n",
        "    decide_next_node2,\n",
        "    {\n",
        "        # Edge: Node\n",
        "        \"addition_operation2\": \"add_node2\",\n",
        "        \"subtraction_operation2\": \"subtract_node2\"\n",
        "    }\n",
        ")\n",
        "graph.add_edge(\"add_node2\", END)\n",
        "graph.add_edge(\"subtract_node2\", END)\n",
        "\n",
        "app = graph.compile()"
      ],
      "metadata": {
        "id": "fykBJtuEV2k1"
      },
      "execution_count": 140,
      "outputs": []
    },
    {
      "cell_type": "code",
      "source": [
        "app"
      ],
      "metadata": {
        "colab": {
          "base_uri": "https://localhost:8080/",
          "height": 596
        },
        "id": "UnAwl5n2WeNJ",
        "outputId": "17652e93-99ec-44b5-a1bc-73e18230d191"
      },
      "execution_count": 141,
      "outputs": [
        {
          "output_type": "execute_result",
          "data": {
            "text/plain": [
              "<langgraph.graph.state.CompiledStateGraph object at 0x7a139770f490>"
            ],
            "image/png": "[encoded data removed]"
          },
          "metadata": {},
          "execution_count": 141
        }
      ]
    },
    {
      "cell_type": "code",
      "source": [
        "answer = app.invoke({\"number1\": 10, \"number2\": 5, \"operation1\": \"+\", \"number3\": 20, \"number4\": 15, \"operation2\": \"+\"})"
      ],
      "metadata": {
        "id": "GEy802PIW7np"
      },
      "execution_count": 142,
      "outputs": []
    },
    {
      "cell_type": "code",
      "source": [
        "print(answer)"
      ],
      "metadata": {
        "colab": {
          "base_uri": "https://localhost:8080/"
        },
        "id": "YseWfA4tXFAs",
        "outputId": "8935bc7b-2eee-4d3e-c0ae-8e799d2df994"
      },
      "execution_count": 143,
      "outputs": [
        {
          "output_type": "stream",
          "name": "stdout",
          "text": [
            "{'number1': 10, 'number2': 5, 'operation1': '+', 'number3': 20, 'number4': 15, 'operation2': '+', 'finalNumber1': 15, 'finalNumber2': 35}\n"
          ]
        }
      ]
    },
    {
      "cell_type": "markdown",
      "source": [
        "# Graph-5 (Looping Graph)"
      ],
      "metadata": {
        "id": "JuHgs1vAXL0X"
      }
    },
    {
      "cell_type": "code",
      "source": [
        "from typing import Dict, TypedDict, List\n",
        "from langgraph.graph import StateGraph, START, END\n",
        "import random"
      ],
      "metadata": {
        "id": "HC7I7XpXXQg_"
      },
      "execution_count": 144,
      "outputs": []
    },
    {
      "cell_type": "code",
      "source": [
        "class AgentState(TypedDict): #our state schema\n",
        "    name: str\n",
        "    number: List[int]\n",
        "    counter: int"
      ],
      "metadata": {
        "id": "i1SebdhcXRRs"
      },
      "execution_count": 146,
      "outputs": []
    },
    {
      "cell_type": "code",
      "source": [
        "def greeting_node(state: AgentState) -> AgentState:\n",
        "  \"\"\"Simple code that adds greeting message to the state\"\"\"\n",
        "  state['name'] = f\"Hi there {state['name']}!\"\n",
        "  state['counter'] = 0\n",
        "  return state\n",
        "\n",
        "def random_node(state: AgentState) -> AgentState:\n",
        "    \"\"\"generate random number from 0 to 10\"\"\"\n",
        "    state['number'].append(random.randint(1, 10))\n",
        "    state['counter'] += 1\n",
        "    return state\n",
        "\n",
        "def should_continue(state: AgentState) -> bool:\n",
        "    \"\"\"check if loop should stop or continue\"\"\"\n",
        "    if state['counter'] < 5:\n",
        "      print(\"Entering loop\", state['counter'])\n",
        "      return \"loop\"\n",
        "    else:\n",
        "      return \"exit\""
      ],
      "metadata": {
        "id": "4ayPaI3nXRUF"
      },
      "execution_count": 156,
      "outputs": []
    },
    {
      "cell_type": "code",
      "source": [
        "graph = StateGraph(AgentState)\n",
        "graph.add_node(\"greeting\", greeting_node)\n",
        "graph.add_node(\"random\", random_node)\n",
        "graph.add_edge(START, \"greeting\")\n",
        "graph.add_edge(\"greeting\", \"random\")\n",
        "graph.add_conditional_edges(\n",
        "    \"random\", # source node\n",
        "    should_continue, # action node\n",
        "    {\n",
        "        \"loop\": \"random\", # loop back to same node\n",
        "        \"exit\": END    # end the loop\n",
        "    }\n",
        ")\n",
        "app = graph.compile()"
      ],
      "metadata": {
        "id": "6oDafmUvXRWf"
      },
      "execution_count": 157,
      "outputs": []
    },
    {
      "cell_type": "code",
      "source": [
        "app"
      ],
      "metadata": {
        "colab": {
          "base_uri": "https://localhost:8080/",
          "height": 448
        },
        "id": "7iiJrKx8XRZB",
        "outputId": "8892855a-fb46-43ad-8907-ee9f511ccbe4"
      },
      "execution_count": 158,
      "outputs": [
        {
          "output_type": "execute_result",
          "data": {
            "text/plain": [
              "<langgraph.graph.state.CompiledStateGraph object at 0x7a13977cfe90>"
            ],
            "image/png": "[encoded data removed]"
          },
          "metadata": {},
          "execution_count": 158
        }
      ]
    },
    {
      "cell_type": "code",
      "source": [
        "answer = app.invoke({\"name\": \"Bob\", 'number':[]})\n",
        "print(answer)"
      ],
      "metadata": {
        "colab": {
          "base_uri": "https://localhost:8080/"
        },
        "id": "KPTVSeIcXRbX",
        "outputId": "74f52a62-79ea-4566-f7a3-1284f9f7d9a1"
      },
      "execution_count": 160,
      "outputs": [
        {
          "output_type": "stream",
          "name": "stdout",
          "text": [
            "Entering loop 1\n",
            "Entering loop 2\n",
            "Entering loop 3\n",
            "Entering loop 4\n",
            "{'name': 'Hi there Bob!', 'number': [7, 1, 2, 10, 3], 'counter': 5}\n"
          ]
        }
      ]
    },
    {
      "cell_type": "markdown",
      "source": [
        "## Exercise-5"
      ],
      "metadata": {
        "id": "gFbkFIR7XSGC"
      }
    },
    {
      "cell_type": "code",
      "source": [
        "from typing import TypedDict, List, Dict\n",
        "import random\n",
        "from langgraph.graph import START, END, StateGraph"
      ],
      "metadata": {
        "id": "6fowopzVXTvP"
      },
      "execution_count": 184,
      "outputs": []
    },
    {
      "cell_type": "code",
      "source": [
        "class AgentState(TypedDict): #our state schema\n",
        "    name: str\n",
        "    attempts: int\n",
        "    guess: int\n",
        "    lower_bound: int\n",
        "    upper_bound: int\n",
        "    answer: int"
      ],
      "metadata": {
        "id": "SAup3BqQcvId"
      },
      "execution_count": 185,
      "outputs": []
    },
    {
      "cell_type": "code",
      "source": [
        "def setup(state: AgentState) -> AgentState:\n",
        "  \"\"\"Set up the game\"\"\"\n",
        "  state['attempts'] = 0\n",
        "  state['lower_bound'] = 1\n",
        "  state['upper_bound'] = 20\n",
        "  state['answer'] = random.randint(state['lower_bound'], state['upper_bound'])\n",
        "  return state\n",
        "\n",
        "def guess(state: AgentState) -> AgentState:\n",
        "  \"\"\"Guess the number\"\"\"\n",
        "  state['attempts'] += 1\n",
        "  state['guess'] = random.randint(state['lower_bound'], state['upper_bound'])\n",
        "  return state\n",
        "\n",
        "def hint(state: AgentState) -> AgentState:\n",
        "    \"\"\"Hint for the guess\"\"\"\n",
        "    if state['guess'] == state['answer']:\n",
        "        print(\"Current guess\", state['guess'])\n",
        "        print(\"Correct Answer\")\n",
        "    elif state['attempts'] == 7:\n",
        "        print(\"Current guess\", state['guess'])\n",
        "        print(\"You have reached the maximum number of attempts\")\n",
        "    elif state['guess'] < state['answer']:\n",
        "        print(\"Current guess\", state['guess'])\n",
        "        print(\"Hint: Go Higher\")\n",
        "        state['lower_bound'] = state['guess']\n",
        "    elif state['guess'] > state['answer']:\n",
        "        print(\"Current guess\", state['guess'])\n",
        "        print(\"Hint: Go Lower\")\n",
        "        state['upper_bound'] = state['guess']\n",
        "    return state\n",
        "\n",
        "# Routing logic\n",
        "def route_from_hint(state: AgentState) -> AgentState:\n",
        "    if state['guess'] == state['answer']:\n",
        "        return \"end\"\n",
        "    elif state['attempts'] == 7:\n",
        "        return \"end\"\n",
        "    else:\n",
        "        return \"loop\"\n"
      ],
      "metadata": {
        "id": "5EQADAISdAph"
      },
      "execution_count": 197,
      "outputs": []
    },
    {
      "cell_type": "code",
      "source": [
        "# Build graph\n",
        "graph = StateGraph(AgentState)\n",
        "graph.add_node(\"setup\", setup)\n",
        "graph.add_node(\"guess\", guess)\n",
        "graph.add_node(\"hint\", hint)\n",
        "\n",
        "graph.add_edge(START, \"setup\")\n",
        "graph.add_edge(\"setup\", \"guess\")\n",
        "graph.add_edge(\"guess\", \"hint\")\n",
        "graph.add_conditional_edges(\n",
        "    \"hint\",\n",
        "    route_from_hint,\n",
        "    {\"loop\": \"guess\", \"end\": END}\n",
        ")\n",
        "\n",
        "app = graph.compile()"
      ],
      "metadata": {
        "id": "5DF-8BAodIGo"
      },
      "execution_count": 198,
      "outputs": []
    },
    {
      "cell_type": "code",
      "source": [
        "app"
      ],
      "metadata": {
        "colab": {
          "base_uri": "https://localhost:8080/",
          "height": 497
        },
        "id": "knRBkyz_exeq",
        "outputId": "19e3599b-6b81-421a-e114-2233e8051f44"
      },
      "execution_count": 199,
      "outputs": [
        {
          "output_type": "execute_result",
          "data": {
            "text/plain": [
              "<langgraph.graph.state.CompiledStateGraph object at 0x7a1397701a50>"
            ],
            "image/png": "[encoded data removed]"
          },
          "metadata": {},
          "execution_count": 199
        }
      ]
    },
    {
      "cell_type": "code",
      "source": [
        "answer = app.invoke({\"name\": \"Bob\", })\n",
        "print(answer)"
      ],
      "metadata": {
        "colab": {
          "base_uri": "https://localhost:8080/"
        },
        "id": "EAyfh9xMeypx",
        "outputId": "b5df817e-a061-4ccd-b46f-799edc26ad8d"
      },
      "execution_count": 201,
      "outputs": [
        {
          "output_type": "stream",
          "name": "stdout",
          "text": [
            "Current guess 3\n",
            "Hint: Go Higher\n",
            "Current guess 19\n",
            "Hint: Go Lower\n",
            "Current guess 11\n",
            "Hint: Go Lower\n",
            "Current guess 8\n",
            "Correct Answer\n",
            "{'name': 'Bob', 'attempts': 4, 'guess': 8, 'lower_bound': 3, 'upper_bound': 11, 'answer': 8}\n"
          ]
        }
      ]
    }
  ]
}